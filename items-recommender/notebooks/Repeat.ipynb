{
 "cells": [
  {
   "cell_type": "code",
   "execution_count": 1,
   "metadata": {},
   "outputs": [],
   "source": [
    "%load_ext autoreload\n",
    "%autoreload 2"
   ]
  },
  {
   "cell_type": "code",
   "execution_count": 3,
   "metadata": {},
   "outputs": [],
   "source": [
    "import pandas as pd\n",
    "import numpy as np\n",
    "import time\n",
    "import turicreate as tc\n",
    "from sklearn.model_selection import train_test_split\n",
    "import sys\n",
    "sys.path.append(\"..\")"
   ]
  },
  {
   "cell_type": "code",
   "execution_count": 78,
   "metadata": {},
   "outputs": [
    {
     "name": "stdout",
     "output_type": "stream",
     "text": [
      "/Users/liangkuang/GitHub/medium/items-recommender/notebooks\r\n"
     ]
    }
   ],
   "source": [
    "!pwd"
   ]
  },
  {
   "cell_type": "markdown",
   "metadata": {},
   "source": [
    "# Load the data"
   ]
  },
  {
   "cell_type": "code",
   "execution_count": 4,
   "metadata": {},
   "outputs": [],
   "source": [
    "# two datasets in csv format\n",
    "# ** recommend_1.csv\n",
    "# ** trx_data.csv\n",
    "customers = pd.read_csv(\"../data/recommend_1.csv\")\n",
    "transactions = pd.read_csv(\"../data/trx_data.csv\")"
   ]
  },
  {
   "cell_type": "code",
   "execution_count": 5,
   "metadata": {},
   "outputs": [
    {
     "name": "stdout",
     "output_type": "stream",
     "text": [
      "(1000, 1)\n",
      "(62483, 2)\n"
     ]
    }
   ],
   "source": [
    "# preview the data\n",
    "print(customers.shape)\n",
    "print(transactions.shape)"
   ]
  },
  {
   "cell_type": "code",
   "execution_count": 6,
   "metadata": {},
   "outputs": [
    {
     "data": {
      "text/html": [
       "<div>\n",
       "<style scoped>\n",
       "    .dataframe tbody tr th:only-of-type {\n",
       "        vertical-align: middle;\n",
       "    }\n",
       "\n",
       "    .dataframe tbody tr th {\n",
       "        vertical-align: top;\n",
       "    }\n",
       "\n",
       "    .dataframe thead th {\n",
       "        text-align: right;\n",
       "    }\n",
       "</style>\n",
       "<table border=\"1\" class=\"dataframe\">\n",
       "  <thead>\n",
       "    <tr style=\"text-align: right;\">\n",
       "      <th></th>\n",
       "      <th>customerId</th>\n",
       "    </tr>\n",
       "  </thead>\n",
       "  <tbody>\n",
       "    <tr>\n",
       "      <th>0</th>\n",
       "      <td>1553</td>\n",
       "    </tr>\n",
       "    <tr>\n",
       "      <th>1</th>\n",
       "      <td>20400</td>\n",
       "    </tr>\n",
       "    <tr>\n",
       "      <th>2</th>\n",
       "      <td>19750</td>\n",
       "    </tr>\n",
       "    <tr>\n",
       "      <th>3</th>\n",
       "      <td>6334</td>\n",
       "    </tr>\n",
       "    <tr>\n",
       "      <th>4</th>\n",
       "      <td>27773</td>\n",
       "    </tr>\n",
       "  </tbody>\n",
       "</table>\n",
       "</div>"
      ],
      "text/plain": [
       "   customerId\n",
       "0        1553\n",
       "1       20400\n",
       "2       19750\n",
       "3        6334\n",
       "4       27773"
      ]
     },
     "execution_count": 6,
     "metadata": {},
     "output_type": "execute_result"
    }
   ],
   "source": [
    "customers.head()"
   ]
  },
  {
   "cell_type": "code",
   "execution_count": 7,
   "metadata": {},
   "outputs": [
    {
     "data": {
      "text/html": [
       "<div>\n",
       "<style scoped>\n",
       "    .dataframe tbody tr th:only-of-type {\n",
       "        vertical-align: middle;\n",
       "    }\n",
       "\n",
       "    .dataframe tbody tr th {\n",
       "        vertical-align: top;\n",
       "    }\n",
       "\n",
       "    .dataframe thead th {\n",
       "        text-align: right;\n",
       "    }\n",
       "</style>\n",
       "<table border=\"1\" class=\"dataframe\">\n",
       "  <thead>\n",
       "    <tr style=\"text-align: right;\">\n",
       "      <th></th>\n",
       "      <th>customerId</th>\n",
       "      <th>products</th>\n",
       "    </tr>\n",
       "  </thead>\n",
       "  <tbody>\n",
       "    <tr>\n",
       "      <th>0</th>\n",
       "      <td>0</td>\n",
       "      <td>20</td>\n",
       "    </tr>\n",
       "    <tr>\n",
       "      <th>1</th>\n",
       "      <td>1</td>\n",
       "      <td>2|2|23|68|68|111|29|86|107|152</td>\n",
       "    </tr>\n",
       "    <tr>\n",
       "      <th>2</th>\n",
       "      <td>2</td>\n",
       "      <td>111|107|29|11|11|11|33|23</td>\n",
       "    </tr>\n",
       "    <tr>\n",
       "      <th>3</th>\n",
       "      <td>3</td>\n",
       "      <td>164|227</td>\n",
       "    </tr>\n",
       "    <tr>\n",
       "      <th>4</th>\n",
       "      <td>5</td>\n",
       "      <td>2|2</td>\n",
       "    </tr>\n",
       "  </tbody>\n",
       "</table>\n",
       "</div>"
      ],
      "text/plain": [
       "   customerId                        products\n",
       "0           0                              20\n",
       "1           1  2|2|23|68|68|111|29|86|107|152\n",
       "2           2       111|107|29|11|11|11|33|23\n",
       "3           3                         164|227\n",
       "4           5                             2|2"
      ]
     },
     "execution_count": 7,
     "metadata": {},
     "output_type": "execute_result"
    }
   ],
   "source": [
    "transactions.head()"
   ]
  },
  {
   "cell_type": "markdown",
   "metadata": {},
   "source": [
    "## Data preparation"
   ]
  },
  {
   "cell_type": "code",
   "execution_count": 16,
   "metadata": {},
   "outputs": [],
   "source": [
    "# Create data with user, item and target field\n",
    "data = pd.melt(transactions.set_index('customerId')['products'].str.split(\"|\", n = -1, expand = True).reset_index(),\n",
    "              id_vars = ['customerId'],\n",
    "              value_name = 'products')\\\n",
    "        .dropna().drop(['variable'], axis = 1) \\\n",
    "        .groupby(['customerId', 'products']) \\\n",
    "        .agg({'products': 'count'}) \\\n",
    "        .rename(columns = {'products': 'purchase_count'}) \\\n",
    "        .reset_index() \\\n",
    "        .rename(columns = {'products': 'productId'})\n",
    "data['productId'] = data['productId'].astype(np.int64)"
   ]
  },
  {
   "cell_type": "code",
   "execution_count": 18,
   "metadata": {},
   "outputs": [
    {
     "name": "stdout",
     "output_type": "stream",
     "text": [
      "(133585, 3)\n"
     ]
    },
    {
     "data": {
      "text/html": [
       "<div>\n",
       "<style scoped>\n",
       "    .dataframe tbody tr th:only-of-type {\n",
       "        vertical-align: middle;\n",
       "    }\n",
       "\n",
       "    .dataframe tbody tr th {\n",
       "        vertical-align: top;\n",
       "    }\n",
       "\n",
       "    .dataframe thead th {\n",
       "        text-align: right;\n",
       "    }\n",
       "</style>\n",
       "<table border=\"1\" class=\"dataframe\">\n",
       "  <thead>\n",
       "    <tr style=\"text-align: right;\">\n",
       "      <th></th>\n",
       "      <th>customerId</th>\n",
       "      <th>productId</th>\n",
       "      <th>purchase_count</th>\n",
       "    </tr>\n",
       "  </thead>\n",
       "  <tbody>\n",
       "    <tr>\n",
       "      <th>0</th>\n",
       "      <td>0</td>\n",
       "      <td>1</td>\n",
       "      <td>2</td>\n",
       "    </tr>\n",
       "    <tr>\n",
       "      <th>1</th>\n",
       "      <td>0</td>\n",
       "      <td>13</td>\n",
       "      <td>1</td>\n",
       "    </tr>\n",
       "    <tr>\n",
       "      <th>2</th>\n",
       "      <td>0</td>\n",
       "      <td>136</td>\n",
       "      <td>2</td>\n",
       "    </tr>\n",
       "    <tr>\n",
       "      <th>3</th>\n",
       "      <td>0</td>\n",
       "      <td>157</td>\n",
       "      <td>1</td>\n",
       "    </tr>\n",
       "    <tr>\n",
       "      <th>4</th>\n",
       "      <td>0</td>\n",
       "      <td>19</td>\n",
       "      <td>3</td>\n",
       "    </tr>\n",
       "  </tbody>\n",
       "</table>\n",
       "</div>"
      ],
      "text/plain": [
       "   customerId  productId  purchase_count\n",
       "0           0          1               2\n",
       "1           0         13               1\n",
       "2           0        136               2\n",
       "3           0        157               1\n",
       "4           0         19               3"
      ]
     },
     "execution_count": 18,
     "metadata": {},
     "output_type": "execute_result"
    }
   ],
   "source": [
    "print(data.shape)\n",
    "data.head()"
   ]
  },
  {
   "cell_type": "markdown",
   "metadata": {},
   "source": [
    "## Create dummy \n",
    "If one buys an item, then purchase_dummy are set to 1."
   ]
  },
  {
   "cell_type": "code",
   "execution_count": 19,
   "metadata": {},
   "outputs": [],
   "source": [
    "def create_data_dummy(data):\n",
    "    data_dummy = data.copy()\n",
    "    data_dummy['purchase_dummy'] = 1\n",
    "    return data_dummy\n",
    "data_dummy = create_data_dummy(data)"
   ]
  },
  {
   "cell_type": "markdown",
   "metadata": {},
   "source": [
    "## Normalize item values across users\n",
    "We normalize purchase frequency of each item across users by first creating a user-item matrix as follows"
   ]
  },
  {
   "cell_type": "code",
   "execution_count": 30,
   "metadata": {},
   "outputs": [],
   "source": [
    "def normalize_data(data):\n",
    "    df_matrix = pd.pivot_table(data, values = 'purchase_count',\n",
    "                              index = 'customerId', columns = 'productId')\n",
    "    df_matrix_norm = (df_matrix - df_matrix.min())/(df_matrix.max()-df_matrix.min())\n",
    "    d = df_matrix_norm.reset_index()\n",
    "    d.index.names = ['scaled_purchase_freq']\n",
    "    return pd.melt(d, id_vars = ['customerId'],\n",
    "                  value_name = 'scaled_purchase_freq').dropna()"
   ]
  },
  {
   "cell_type": "code",
   "execution_count": 24,
   "metadata": {},
   "outputs": [
    {
     "name": "stdout",
     "output_type": "stream",
     "text": [
      "(24429, 300)\n"
     ]
    },
    {
     "data": {
      "text/html": [
       "<div>\n",
       "<style scoped>\n",
       "    .dataframe tbody tr th:only-of-type {\n",
       "        vertical-align: middle;\n",
       "    }\n",
       "\n",
       "    .dataframe tbody tr th {\n",
       "        vertical-align: top;\n",
       "    }\n",
       "\n",
       "    .dataframe thead th {\n",
       "        text-align: right;\n",
       "    }\n",
       "</style>\n",
       "<table border=\"1\" class=\"dataframe\">\n",
       "  <thead>\n",
       "    <tr style=\"text-align: right;\">\n",
       "      <th>productId</th>\n",
       "      <th>0</th>\n",
       "      <th>1</th>\n",
       "      <th>2</th>\n",
       "      <th>3</th>\n",
       "      <th>4</th>\n",
       "      <th>5</th>\n",
       "      <th>6</th>\n",
       "      <th>7</th>\n",
       "      <th>8</th>\n",
       "      <th>9</th>\n",
       "      <th>...</th>\n",
       "      <th>290</th>\n",
       "      <th>291</th>\n",
       "      <th>292</th>\n",
       "      <th>293</th>\n",
       "      <th>294</th>\n",
       "      <th>295</th>\n",
       "      <th>296</th>\n",
       "      <th>297</th>\n",
       "      <th>298</th>\n",
       "      <th>299</th>\n",
       "    </tr>\n",
       "    <tr>\n",
       "      <th>customerId</th>\n",
       "      <th></th>\n",
       "      <th></th>\n",
       "      <th></th>\n",
       "      <th></th>\n",
       "      <th></th>\n",
       "      <th></th>\n",
       "      <th></th>\n",
       "      <th></th>\n",
       "      <th></th>\n",
       "      <th></th>\n",
       "      <th></th>\n",
       "      <th></th>\n",
       "      <th></th>\n",
       "      <th></th>\n",
       "      <th></th>\n",
       "      <th></th>\n",
       "      <th></th>\n",
       "      <th></th>\n",
       "      <th></th>\n",
       "      <th></th>\n",
       "      <th></th>\n",
       "    </tr>\n",
       "  </thead>\n",
       "  <tbody>\n",
       "    <tr>\n",
       "      <th>0</th>\n",
       "      <td>NaN</td>\n",
       "      <td>2.0</td>\n",
       "      <td>NaN</td>\n",
       "      <td>NaN</td>\n",
       "      <td>NaN</td>\n",
       "      <td>NaN</td>\n",
       "      <td>NaN</td>\n",
       "      <td>NaN</td>\n",
       "      <td>NaN</td>\n",
       "      <td>NaN</td>\n",
       "      <td>...</td>\n",
       "      <td>NaN</td>\n",
       "      <td>NaN</td>\n",
       "      <td>NaN</td>\n",
       "      <td>NaN</td>\n",
       "      <td>NaN</td>\n",
       "      <td>NaN</td>\n",
       "      <td>NaN</td>\n",
       "      <td>NaN</td>\n",
       "      <td>NaN</td>\n",
       "      <td>NaN</td>\n",
       "    </tr>\n",
       "    <tr>\n",
       "      <th>1</th>\n",
       "      <td>NaN</td>\n",
       "      <td>NaN</td>\n",
       "      <td>6.0</td>\n",
       "      <td>NaN</td>\n",
       "      <td>NaN</td>\n",
       "      <td>NaN</td>\n",
       "      <td>NaN</td>\n",
       "      <td>NaN</td>\n",
       "      <td>NaN</td>\n",
       "      <td>NaN</td>\n",
       "      <td>...</td>\n",
       "      <td>NaN</td>\n",
       "      <td>NaN</td>\n",
       "      <td>NaN</td>\n",
       "      <td>1.0</td>\n",
       "      <td>NaN</td>\n",
       "      <td>NaN</td>\n",
       "      <td>1.0</td>\n",
       "      <td>NaN</td>\n",
       "      <td>NaN</td>\n",
       "      <td>NaN</td>\n",
       "    </tr>\n",
       "    <tr>\n",
       "      <th>2</th>\n",
       "      <td>NaN</td>\n",
       "      <td>NaN</td>\n",
       "      <td>NaN</td>\n",
       "      <td>NaN</td>\n",
       "      <td>NaN</td>\n",
       "      <td>NaN</td>\n",
       "      <td>NaN</td>\n",
       "      <td>NaN</td>\n",
       "      <td>NaN</td>\n",
       "      <td>NaN</td>\n",
       "      <td>...</td>\n",
       "      <td>NaN</td>\n",
       "      <td>NaN</td>\n",
       "      <td>NaN</td>\n",
       "      <td>NaN</td>\n",
       "      <td>NaN</td>\n",
       "      <td>NaN</td>\n",
       "      <td>NaN</td>\n",
       "      <td>NaN</td>\n",
       "      <td>NaN</td>\n",
       "      <td>NaN</td>\n",
       "    </tr>\n",
       "    <tr>\n",
       "      <th>3</th>\n",
       "      <td>NaN</td>\n",
       "      <td>NaN</td>\n",
       "      <td>NaN</td>\n",
       "      <td>NaN</td>\n",
       "      <td>NaN</td>\n",
       "      <td>NaN</td>\n",
       "      <td>NaN</td>\n",
       "      <td>NaN</td>\n",
       "      <td>NaN</td>\n",
       "      <td>NaN</td>\n",
       "      <td>...</td>\n",
       "      <td>NaN</td>\n",
       "      <td>NaN</td>\n",
       "      <td>NaN</td>\n",
       "      <td>NaN</td>\n",
       "      <td>NaN</td>\n",
       "      <td>NaN</td>\n",
       "      <td>NaN</td>\n",
       "      <td>NaN</td>\n",
       "      <td>NaN</td>\n",
       "      <td>NaN</td>\n",
       "    </tr>\n",
       "    <tr>\n",
       "      <th>4</th>\n",
       "      <td>NaN</td>\n",
       "      <td>NaN</td>\n",
       "      <td>NaN</td>\n",
       "      <td>NaN</td>\n",
       "      <td>NaN</td>\n",
       "      <td>NaN</td>\n",
       "      <td>NaN</td>\n",
       "      <td>NaN</td>\n",
       "      <td>NaN</td>\n",
       "      <td>NaN</td>\n",
       "      <td>...</td>\n",
       "      <td>NaN</td>\n",
       "      <td>NaN</td>\n",
       "      <td>NaN</td>\n",
       "      <td>NaN</td>\n",
       "      <td>NaN</td>\n",
       "      <td>NaN</td>\n",
       "      <td>NaN</td>\n",
       "      <td>NaN</td>\n",
       "      <td>NaN</td>\n",
       "      <td>NaN</td>\n",
       "    </tr>\n",
       "  </tbody>\n",
       "</table>\n",
       "<p>5 rows × 300 columns</p>\n",
       "</div>"
      ],
      "text/plain": [
       "productId   0    1    2    3    4    5    6    7    8    9    ...  290  291  \\\n",
       "customerId                                                    ...             \n",
       "0           NaN  2.0  NaN  NaN  NaN  NaN  NaN  NaN  NaN  NaN  ...  NaN  NaN   \n",
       "1           NaN  NaN  6.0  NaN  NaN  NaN  NaN  NaN  NaN  NaN  ...  NaN  NaN   \n",
       "2           NaN  NaN  NaN  NaN  NaN  NaN  NaN  NaN  NaN  NaN  ...  NaN  NaN   \n",
       "3           NaN  NaN  NaN  NaN  NaN  NaN  NaN  NaN  NaN  NaN  ...  NaN  NaN   \n",
       "4           NaN  NaN  NaN  NaN  NaN  NaN  NaN  NaN  NaN  NaN  ...  NaN  NaN   \n",
       "\n",
       "productId   292  293  294  295  296  297  298  299  \n",
       "customerId                                          \n",
       "0           NaN  NaN  NaN  NaN  NaN  NaN  NaN  NaN  \n",
       "1           NaN  1.0  NaN  NaN  1.0  NaN  NaN  NaN  \n",
       "2           NaN  NaN  NaN  NaN  NaN  NaN  NaN  NaN  \n",
       "3           NaN  NaN  NaN  NaN  NaN  NaN  NaN  NaN  \n",
       "4           NaN  NaN  NaN  NaN  NaN  NaN  NaN  NaN  \n",
       "\n",
       "[5 rows x 300 columns]"
      ]
     },
     "execution_count": 24,
     "metadata": {},
     "output_type": "execute_result"
    }
   ],
   "source": [
    "df_matrix = pd.pivot_table(data, values = 'purchase_count', \n",
    "                          index = 'customerId', columns = 'productId')\n",
    "print(df_matrix.shape)\n",
    "df_matrix.head()"
   ]
  },
  {
   "cell_type": "code",
   "execution_count": 26,
   "metadata": {},
   "outputs": [
    {
     "data": {
      "text/html": [
       "<div>\n",
       "<style scoped>\n",
       "    .dataframe tbody tr th:only-of-type {\n",
       "        vertical-align: middle;\n",
       "    }\n",
       "\n",
       "    .dataframe tbody tr th {\n",
       "        vertical-align: top;\n",
       "    }\n",
       "\n",
       "    .dataframe thead th {\n",
       "        text-align: right;\n",
       "    }\n",
       "</style>\n",
       "<table border=\"1\" class=\"dataframe\">\n",
       "  <thead>\n",
       "    <tr style=\"text-align: right;\">\n",
       "      <th>productId</th>\n",
       "      <th>0</th>\n",
       "      <th>1</th>\n",
       "      <th>2</th>\n",
       "      <th>3</th>\n",
       "      <th>4</th>\n",
       "      <th>5</th>\n",
       "      <th>6</th>\n",
       "      <th>7</th>\n",
       "      <th>8</th>\n",
       "      <th>9</th>\n",
       "      <th>...</th>\n",
       "      <th>290</th>\n",
       "      <th>291</th>\n",
       "      <th>292</th>\n",
       "      <th>293</th>\n",
       "      <th>294</th>\n",
       "      <th>295</th>\n",
       "      <th>296</th>\n",
       "      <th>297</th>\n",
       "      <th>298</th>\n",
       "      <th>299</th>\n",
       "    </tr>\n",
       "    <tr>\n",
       "      <th>customerId</th>\n",
       "      <th></th>\n",
       "      <th></th>\n",
       "      <th></th>\n",
       "      <th></th>\n",
       "      <th></th>\n",
       "      <th></th>\n",
       "      <th></th>\n",
       "      <th></th>\n",
       "      <th></th>\n",
       "      <th></th>\n",
       "      <th></th>\n",
       "      <th></th>\n",
       "      <th></th>\n",
       "      <th></th>\n",
       "      <th></th>\n",
       "      <th></th>\n",
       "      <th></th>\n",
       "      <th></th>\n",
       "      <th></th>\n",
       "      <th></th>\n",
       "      <th></th>\n",
       "    </tr>\n",
       "  </thead>\n",
       "  <tbody>\n",
       "    <tr>\n",
       "      <th>0</th>\n",
       "      <td>NaN</td>\n",
       "      <td>0.1</td>\n",
       "      <td>NaN</td>\n",
       "      <td>NaN</td>\n",
       "      <td>NaN</td>\n",
       "      <td>NaN</td>\n",
       "      <td>NaN</td>\n",
       "      <td>NaN</td>\n",
       "      <td>NaN</td>\n",
       "      <td>NaN</td>\n",
       "      <td>...</td>\n",
       "      <td>NaN</td>\n",
       "      <td>NaN</td>\n",
       "      <td>NaN</td>\n",
       "      <td>NaN</td>\n",
       "      <td>NaN</td>\n",
       "      <td>NaN</td>\n",
       "      <td>NaN</td>\n",
       "      <td>NaN</td>\n",
       "      <td>NaN</td>\n",
       "      <td>NaN</td>\n",
       "    </tr>\n",
       "    <tr>\n",
       "      <th>1</th>\n",
       "      <td>NaN</td>\n",
       "      <td>NaN</td>\n",
       "      <td>0.166667</td>\n",
       "      <td>NaN</td>\n",
       "      <td>NaN</td>\n",
       "      <td>NaN</td>\n",
       "      <td>NaN</td>\n",
       "      <td>NaN</td>\n",
       "      <td>NaN</td>\n",
       "      <td>NaN</td>\n",
       "      <td>...</td>\n",
       "      <td>NaN</td>\n",
       "      <td>NaN</td>\n",
       "      <td>NaN</td>\n",
       "      <td>0.0</td>\n",
       "      <td>NaN</td>\n",
       "      <td>NaN</td>\n",
       "      <td>0.0</td>\n",
       "      <td>NaN</td>\n",
       "      <td>NaN</td>\n",
       "      <td>NaN</td>\n",
       "    </tr>\n",
       "    <tr>\n",
       "      <th>2</th>\n",
       "      <td>NaN</td>\n",
       "      <td>NaN</td>\n",
       "      <td>NaN</td>\n",
       "      <td>NaN</td>\n",
       "      <td>NaN</td>\n",
       "      <td>NaN</td>\n",
       "      <td>NaN</td>\n",
       "      <td>NaN</td>\n",
       "      <td>NaN</td>\n",
       "      <td>NaN</td>\n",
       "      <td>...</td>\n",
       "      <td>NaN</td>\n",
       "      <td>NaN</td>\n",
       "      <td>NaN</td>\n",
       "      <td>NaN</td>\n",
       "      <td>NaN</td>\n",
       "      <td>NaN</td>\n",
       "      <td>NaN</td>\n",
       "      <td>NaN</td>\n",
       "      <td>NaN</td>\n",
       "      <td>NaN</td>\n",
       "    </tr>\n",
       "    <tr>\n",
       "      <th>3</th>\n",
       "      <td>NaN</td>\n",
       "      <td>NaN</td>\n",
       "      <td>NaN</td>\n",
       "      <td>NaN</td>\n",
       "      <td>NaN</td>\n",
       "      <td>NaN</td>\n",
       "      <td>NaN</td>\n",
       "      <td>NaN</td>\n",
       "      <td>NaN</td>\n",
       "      <td>NaN</td>\n",
       "      <td>...</td>\n",
       "      <td>NaN</td>\n",
       "      <td>NaN</td>\n",
       "      <td>NaN</td>\n",
       "      <td>NaN</td>\n",
       "      <td>NaN</td>\n",
       "      <td>NaN</td>\n",
       "      <td>NaN</td>\n",
       "      <td>NaN</td>\n",
       "      <td>NaN</td>\n",
       "      <td>NaN</td>\n",
       "    </tr>\n",
       "    <tr>\n",
       "      <th>4</th>\n",
       "      <td>NaN</td>\n",
       "      <td>NaN</td>\n",
       "      <td>NaN</td>\n",
       "      <td>NaN</td>\n",
       "      <td>NaN</td>\n",
       "      <td>NaN</td>\n",
       "      <td>NaN</td>\n",
       "      <td>NaN</td>\n",
       "      <td>NaN</td>\n",
       "      <td>NaN</td>\n",
       "      <td>...</td>\n",
       "      <td>NaN</td>\n",
       "      <td>NaN</td>\n",
       "      <td>NaN</td>\n",
       "      <td>NaN</td>\n",
       "      <td>NaN</td>\n",
       "      <td>NaN</td>\n",
       "      <td>NaN</td>\n",
       "      <td>NaN</td>\n",
       "      <td>NaN</td>\n",
       "      <td>NaN</td>\n",
       "    </tr>\n",
       "  </tbody>\n",
       "</table>\n",
       "<p>5 rows × 300 columns</p>\n",
       "</div>"
      ],
      "text/plain": [
       "productId   0    1         2    3    4    5    6    7    8    9    ...  290  \\\n",
       "customerId                                                         ...        \n",
       "0           NaN  0.1       NaN  NaN  NaN  NaN  NaN  NaN  NaN  NaN  ...  NaN   \n",
       "1           NaN  NaN  0.166667  NaN  NaN  NaN  NaN  NaN  NaN  NaN  ...  NaN   \n",
       "2           NaN  NaN       NaN  NaN  NaN  NaN  NaN  NaN  NaN  NaN  ...  NaN   \n",
       "3           NaN  NaN       NaN  NaN  NaN  NaN  NaN  NaN  NaN  NaN  ...  NaN   \n",
       "4           NaN  NaN       NaN  NaN  NaN  NaN  NaN  NaN  NaN  NaN  ...  NaN   \n",
       "\n",
       "productId   291  292  293  294  295  296  297  298  299  \n",
       "customerId                                               \n",
       "0           NaN  NaN  NaN  NaN  NaN  NaN  NaN  NaN  NaN  \n",
       "1           NaN  NaN  0.0  NaN  NaN  0.0  NaN  NaN  NaN  \n",
       "2           NaN  NaN  NaN  NaN  NaN  NaN  NaN  NaN  NaN  \n",
       "3           NaN  NaN  NaN  NaN  NaN  NaN  NaN  NaN  NaN  \n",
       "4           NaN  NaN  NaN  NaN  NaN  NaN  NaN  NaN  NaN  \n",
       "\n",
       "[5 rows x 300 columns]"
      ]
     },
     "execution_count": 26,
     "metadata": {},
     "output_type": "execute_result"
    }
   ],
   "source": [
    "df_matrix_norm = (df_matrix - df_matrix.min())/(df_matrix.max() - df_matrix.min())\n",
    "df_matrix_norm.head()"
   ]
  },
  {
   "cell_type": "code",
   "execution_count": 28,
   "metadata": {},
   "outputs": [
    {
     "name": "stdout",
     "output_type": "stream",
     "text": [
      "(133585, 3)\n"
     ]
    },
    {
     "data": {
      "text/html": [
       "<div>\n",
       "<style scoped>\n",
       "    .dataframe tbody tr th:only-of-type {\n",
       "        vertical-align: middle;\n",
       "    }\n",
       "\n",
       "    .dataframe tbody tr th {\n",
       "        vertical-align: top;\n",
       "    }\n",
       "\n",
       "    .dataframe thead th {\n",
       "        text-align: right;\n",
       "    }\n",
       "</style>\n",
       "<table border=\"1\" class=\"dataframe\">\n",
       "  <thead>\n",
       "    <tr style=\"text-align: right;\">\n",
       "      <th></th>\n",
       "      <th>customerId</th>\n",
       "      <th>productId</th>\n",
       "      <th>scaled_purchase_freq</th>\n",
       "    </tr>\n",
       "  </thead>\n",
       "  <tbody>\n",
       "    <tr>\n",
       "      <th>9</th>\n",
       "      <td>9</td>\n",
       "      <td>0</td>\n",
       "      <td>0.133333</td>\n",
       "    </tr>\n",
       "    <tr>\n",
       "      <th>25</th>\n",
       "      <td>25</td>\n",
       "      <td>0</td>\n",
       "      <td>0.133333</td>\n",
       "    </tr>\n",
       "    <tr>\n",
       "      <th>32</th>\n",
       "      <td>33</td>\n",
       "      <td>0</td>\n",
       "      <td>0.133333</td>\n",
       "    </tr>\n",
       "    <tr>\n",
       "      <th>35</th>\n",
       "      <td>36</td>\n",
       "      <td>0</td>\n",
       "      <td>0.133333</td>\n",
       "    </tr>\n",
       "    <tr>\n",
       "      <th>43</th>\n",
       "      <td>44</td>\n",
       "      <td>0</td>\n",
       "      <td>0.133333</td>\n",
       "    </tr>\n",
       "  </tbody>\n",
       "</table>\n",
       "</div>"
      ],
      "text/plain": [
       "    customerId productId  scaled_purchase_freq\n",
       "9            9         0              0.133333\n",
       "25          25         0              0.133333\n",
       "32          33         0              0.133333\n",
       "35          36         0              0.133333\n",
       "43          44         0              0.133333"
      ]
     },
     "execution_count": 28,
     "metadata": {},
     "output_type": "execute_result"
    }
   ],
   "source": [
    "# create a table for input to the modeling\n",
    "d = df_matrix_norm.reset_index()\n",
    "d.index.names = ['scaled_purchase_freq']\n",
    "data_norm = pd.melt(d, id_vars=['customerId'], value_name='scaled_purchase_freq').dropna()\n",
    "print(data_norm.shape)\n",
    "data_norm.head()"
   ]
  },
  {
   "cell_type": "markdown",
   "metadata": {},
   "source": [
    "# Split train and test set\n",
    "We use 80:20 ratio for our train_test set size"
   ]
  },
  {
   "cell_type": "code",
   "execution_count": 31,
   "metadata": {},
   "outputs": [],
   "source": [
    "def split_data(data):\n",
    "    train, test = train_test_split(data, test_size = 0.2)\n",
    "    train_data = tc.SFrame(train)\n",
    "    test_data = tc.SFrame(test)\n",
    "    return train_data, test_data"
   ]
  },
  {
   "cell_type": "code",
   "execution_count": 32,
   "metadata": {},
   "outputs": [],
   "source": [
    "train_data, test_data = split_data(data)\n",
    "train_data_dummy, test_data_dummy = split_data(data_dummy)\n",
    "train_data_norm, test_data_norm = split_data(data_norm)"
   ]
  },
  {
   "cell_type": "markdown",
   "metadata": {},
   "source": [
    "# Define models using Turicreate library"
   ]
  },
  {
   "cell_type": "markdown",
   "metadata": {},
   "source": [
    "## Baseline model: most popular items"
   ]
  },
  {
   "cell_type": "code",
   "execution_count": 33,
   "metadata": {},
   "outputs": [],
   "source": [
    "# constant variables to define filed names\n",
    "user_id = 'customerId'\n",
    "item_id = 'productId'\n",
    "users_to_recommend = list(customers[user_id])\n",
    "n_rec = 10\n",
    "n_display = 30 # to display the first few rows in an output dataset"
   ]
  },
  {
   "cell_type": "code",
   "execution_count": 48,
   "metadata": {},
   "outputs": [],
   "source": [
    "# Turicreate is a great library\n",
    "def model(train_data, name, user_id, item_id, target,\n",
    "         users_to_recommend, n_rec, n_display):\n",
    "    if name == 'popularity':\n",
    "        model = tc.popularity_recommender.create(train_data,\n",
    "                                                user_id = user_id,\n",
    "                                                item_id = item_id,\n",
    "                                                target = target)\n",
    "    elif name == 'cosine':\n",
    "        model = tc.item_similarity_recommender.create(train_data,\n",
    "                                                     user_id = user_id,\n",
    "                                                     item_id = item_id,\n",
    "                                                     target = target,\n",
    "                                                     similarity_type = 'cosine')\n",
    "    elif name == 'pearson':\n",
    "        model = tc.item_similarity_recommender.create(train_data,\n",
    "                                                     user_id = user_id,\n",
    "                                                     item_id = item_id,\n",
    "                                                     target = target,\n",
    "                                                     similarity_type = 'pearson')\n",
    "#     recom = model.recommend(users = users_to_recommend, k = n_rec)\n",
    "    return model"
   ]
  },
  {
   "cell_type": "markdown",
   "metadata": {},
   "source": [
    "# Popularity model as baseline"
   ]
  },
  {
   "cell_type": "code",
   "execution_count": 54,
   "metadata": {},
   "outputs": [
    {
     "data": {
      "text/html": [
       "<pre>Preparing data set.</pre>"
      ],
      "text/plain": [
       "Preparing data set."
      ]
     },
     "metadata": {},
     "output_type": "display_data"
    },
    {
     "data": {
      "text/html": [
       "<pre>    Data has 106868 observations with 23326 users and 300 items.</pre>"
      ],
      "text/plain": [
       "    Data has 106868 observations with 23326 users and 300 items."
      ]
     },
     "metadata": {},
     "output_type": "display_data"
    },
    {
     "data": {
      "text/html": [
       "<pre>    Data prepared in: 0.126598s</pre>"
      ],
      "text/plain": [
       "    Data prepared in: 0.126598s"
      ]
     },
     "metadata": {},
     "output_type": "display_data"
    },
    {
     "data": {
      "text/html": [
       "<pre>106868 observations to process; with 300 unique items.</pre>"
      ],
      "text/plain": [
       "106868 observations to process; with 300 unique items."
      ]
     },
     "metadata": {},
     "output_type": "display_data"
    }
   ],
   "source": [
    "name = 'popularity'\n",
    "target = 'purchase_count'\n",
    "popularity_model = model(train_data, name, user_id, item_id, target,\n",
    "                  users_to_recommend, n_rec, n_display)"
   ]
  },
  {
   "cell_type": "code",
   "execution_count": 57,
   "metadata": {},
   "outputs": [
    {
     "data": {
      "text/html": [
       "<pre>recommendations finished on 1000/1000 queries. users per second: 139704</pre>"
      ],
      "text/plain": [
       "recommendations finished on 1000/1000 queries. users per second: 139704"
      ]
     },
     "metadata": {},
     "output_type": "display_data"
    },
    {
     "name": "stdout",
     "output_type": "stream",
     "text": [
      "+------------+-----------+--------------------+------+\n",
      "| customerId | productId |       score        | rank |\n",
      "+------------+-----------+--------------------+------+\n",
      "|    1553    |    132    | 3.1403508771929824 |  1   |\n",
      "|    1553    |     37    | 3.022727272727273  |  2   |\n",
      "|    1553    |     0     | 2.9611273080660836 |  3   |\n",
      "|    1553    |     34    | 2.9243027888446216 |  4   |\n",
      "|    1553    |    248    | 2.909090909090909  |  5   |\n",
      "|    1553    |     3     | 2.8410041841004183 |  6   |\n",
      "|    1553    |    230    | 2.746376811594203  |  7   |\n",
      "|    1553    |    110    | 2.694610778443114  |  8   |\n",
      "|    1553    |     27    | 2.671641791044776  |  9   |\n",
      "|    1553    |     32    |       2.635        |  10  |\n",
      "|   20400    |    132    | 3.1403508771929824 |  1   |\n",
      "|   20400    |     37    | 3.022727272727273  |  2   |\n",
      "|   20400    |     0     | 2.9611273080660836 |  3   |\n",
      "|   20400    |     34    | 2.9243027888446216 |  4   |\n",
      "|   20400    |    248    | 2.909090909090909  |  5   |\n",
      "|   20400    |     3     | 2.8410041841004183 |  6   |\n",
      "|   20400    |    230    | 2.746376811594203  |  7   |\n",
      "|   20400    |    110    | 2.694610778443114  |  8   |\n",
      "|   20400    |     27    | 2.671641791044776  |  9   |\n",
      "|   20400    |     32    |       2.635        |  10  |\n",
      "|   19750    |    132    | 3.1403508771929824 |  1   |\n",
      "|   19750    |     37    | 3.022727272727273  |  2   |\n",
      "|   19750    |     0     | 2.9611273080660836 |  3   |\n",
      "|   19750    |     34    | 2.9243027888446216 |  4   |\n",
      "|   19750    |    248    | 2.909090909090909  |  5   |\n",
      "|   19750    |     3     | 2.8410041841004183 |  6   |\n",
      "|   19750    |    230    | 2.746376811594203  |  7   |\n",
      "|   19750    |    110    | 2.694610778443114  |  8   |\n",
      "|   19750    |     27    | 2.671641791044776  |  9   |\n",
      "|   19750    |     32    |       2.635        |  10  |\n",
      "+------------+-----------+--------------------+------+\n",
      "[10000 rows x 4 columns]\n",
      "\n"
     ]
    }
   ],
   "source": [
    "popularity_model.recommend(users_to_recommend, k = n_rec).print_rows(30)"
   ]
  },
  {
   "cell_type": "markdown",
   "metadata": {},
   "source": [
    "## use collaborative filter"
   ]
  },
  {
   "cell_type": "code",
   "execution_count": 58,
   "metadata": {},
   "outputs": [
    {
     "data": {
      "text/html": [
       "<pre>Preparing data set.</pre>"
      ],
      "text/plain": [
       "Preparing data set."
      ]
     },
     "metadata": {},
     "output_type": "display_data"
    },
    {
     "data": {
      "text/html": [
       "<pre>    Data has 106868 observations with 23326 users and 300 items.</pre>"
      ],
      "text/plain": [
       "    Data has 106868 observations with 23326 users and 300 items."
      ]
     },
     "metadata": {},
     "output_type": "display_data"
    },
    {
     "data": {
      "text/html": [
       "<pre>    Data prepared in: 0.131408s</pre>"
      ],
      "text/plain": [
       "    Data prepared in: 0.131408s"
      ]
     },
     "metadata": {},
     "output_type": "display_data"
    },
    {
     "data": {
      "text/html": [
       "<pre>Training model from provided data.</pre>"
      ],
      "text/plain": [
       "Training model from provided data."
      ]
     },
     "metadata": {},
     "output_type": "display_data"
    },
    {
     "data": {
      "text/html": [
       "<pre>Gathering per-item and per-user statistics.</pre>"
      ],
      "text/plain": [
       "Gathering per-item and per-user statistics."
      ]
     },
     "metadata": {},
     "output_type": "display_data"
    },
    {
     "data": {
      "text/html": [
       "<pre>+--------------------------------+------------+</pre>"
      ],
      "text/plain": [
       "+--------------------------------+------------+"
      ]
     },
     "metadata": {},
     "output_type": "display_data"
    },
    {
     "data": {
      "text/html": [
       "<pre>| Elapsed Time (Item Statistics) | % Complete |</pre>"
      ],
      "text/plain": [
       "| Elapsed Time (Item Statistics) | % Complete |"
      ]
     },
     "metadata": {},
     "output_type": "display_data"
    },
    {
     "data": {
      "text/html": [
       "<pre>+--------------------------------+------------+</pre>"
      ],
      "text/plain": [
       "+--------------------------------+------------+"
      ]
     },
     "metadata": {},
     "output_type": "display_data"
    },
    {
     "data": {
      "text/html": [
       "<pre>| 2.206ms                        | 8.5        |</pre>"
      ],
      "text/plain": [
       "| 2.206ms                        | 8.5        |"
      ]
     },
     "metadata": {},
     "output_type": "display_data"
    },
    {
     "data": {
      "text/html": [
       "<pre>| 6.762ms                        | 100        |</pre>"
      ],
      "text/plain": [
       "| 6.762ms                        | 100        |"
      ]
     },
     "metadata": {},
     "output_type": "display_data"
    },
    {
     "data": {
      "text/html": [
       "<pre>+--------------------------------+------------+</pre>"
      ],
      "text/plain": [
       "+--------------------------------+------------+"
      ]
     },
     "metadata": {},
     "output_type": "display_data"
    },
    {
     "data": {
      "text/html": [
       "<pre>Setting up lookup tables.</pre>"
      ],
      "text/plain": [
       "Setting up lookup tables."
      ]
     },
     "metadata": {},
     "output_type": "display_data"
    },
    {
     "data": {
      "text/html": [
       "<pre>Processing data in one pass using dense lookup tables.</pre>"
      ],
      "text/plain": [
       "Processing data in one pass using dense lookup tables."
      ]
     },
     "metadata": {},
     "output_type": "display_data"
    },
    {
     "data": {
      "text/html": [
       "<pre>+-------------------------------------+------------------+-----------------+</pre>"
      ],
      "text/plain": [
       "+-------------------------------------+------------------+-----------------+"
      ]
     },
     "metadata": {},
     "output_type": "display_data"
    },
    {
     "data": {
      "text/html": [
       "<pre>| Elapsed Time (Constructing Lookups) | Total % Complete | Items Processed |</pre>"
      ],
      "text/plain": [
       "| Elapsed Time (Constructing Lookups) | Total % Complete | Items Processed |"
      ]
     },
     "metadata": {},
     "output_type": "display_data"
    },
    {
     "data": {
      "text/html": [
       "<pre>+-------------------------------------+------------------+-----------------+</pre>"
      ],
      "text/plain": [
       "+-------------------------------------+------------------+-----------------+"
      ]
     },
     "metadata": {},
     "output_type": "display_data"
    },
    {
     "data": {
      "text/html": [
       "<pre>| 21.596ms                            | 0                | 0               |</pre>"
      ],
      "text/plain": [
       "| 21.596ms                            | 0                | 0               |"
      ]
     },
     "metadata": {},
     "output_type": "display_data"
    },
    {
     "data": {
      "text/html": [
       "<pre>| 25.464ms                            | 100              | 300             |</pre>"
      ],
      "text/plain": [
       "| 25.464ms                            | 100              | 300             |"
      ]
     },
     "metadata": {},
     "output_type": "display_data"
    },
    {
     "data": {
      "text/html": [
       "<pre>+-------------------------------------+------------------+-----------------+</pre>"
      ],
      "text/plain": [
       "+-------------------------------------+------------------+-----------------+"
      ]
     },
     "metadata": {},
     "output_type": "display_data"
    },
    {
     "data": {
      "text/html": [
       "<pre>Finalizing lookup tables.</pre>"
      ],
      "text/plain": [
       "Finalizing lookup tables."
      ]
     },
     "metadata": {},
     "output_type": "display_data"
    },
    {
     "data": {
      "text/html": [
       "<pre>Generating candidate set for working with new users.</pre>"
      ],
      "text/plain": [
       "Generating candidate set for working with new users."
      ]
     },
     "metadata": {},
     "output_type": "display_data"
    },
    {
     "data": {
      "text/html": [
       "<pre>Finished training in 1.04765s</pre>"
      ],
      "text/plain": [
       "Finished training in 1.04765s"
      ]
     },
     "metadata": {},
     "output_type": "display_data"
    }
   ],
   "source": [
    "name = 'cosine'\n",
    "target = 'purchase_count'\n",
    "cos = model(train_data, name, user_id, item_id, target,\n",
    "           users_to_recommend, n_rec, n_display)"
   ]
  },
  {
   "cell_type": "code",
   "execution_count": 59,
   "metadata": {},
   "outputs": [
    {
     "data": {
      "text/html": [
       "<pre>recommendations finished on 1000/1000 queries. users per second: 66357</pre>"
      ],
      "text/plain": [
       "recommendations finished on 1000/1000 queries. users per second: 66357"
      ]
     },
     "metadata": {},
     "output_type": "display_data"
    },
    {
     "name": "stdout",
     "output_type": "stream",
     "text": [
      "+------------+-----------+----------------------+------+\n",
      "| customerId | productId |        score         | rank |\n",
      "+------------+-----------+----------------------+------+\n",
      "|    1553    |     2     | 0.13774506747722626  |  1   |\n",
      "|    1553    |     1     | 0.07800829410552979  |  2   |\n",
      "|    1553    |     5     | 0.07741294801235199  |  3   |\n",
      "|    1553    |     35    | 0.06270940601825714  |  4   |\n",
      "|    1553    |    167    | 0.05358444154262543  |  5   |\n",
      "|    1553    |     17    | 0.04725289344787598  |  6   |\n",
      "|    1553    |    148    | 0.046237096190452576 |  7   |\n",
      "|    1553    |     31    | 0.04357762634754181  |  8   |\n",
      "|    1553    |     13    | 0.04239402711391449  |  9   |\n",
      "|    1553    |    152    |  0.0413091778755188  |  10  |\n",
      "|   20400    |    280    | 0.08716535568237305  |  1   |\n",
      "|   20400    |    122    | 0.04911607503890991  |  2   |\n",
      "|   20400    |     74    | 0.04235422611236572  |  3   |\n",
      "|   20400    |     1     | 0.037989258766174316 |  4   |\n",
      "|   20400    |    284    | 0.03784281015396118  |  5   |\n",
      "|   20400    |     31    | 0.03766423463821411  |  6   |\n",
      "|   20400    |     42    |  0.0361865758895874  |  7   |\n",
      "|   20400    |    131    | 0.03553509712219238  |  8   |\n",
      "|   20400    |    299    | 0.035108089447021484 |  9   |\n",
      "|   20400    |    132    | 0.03446000814437866  |  10  |\n",
      "|   19750    |     38    | 0.09025943279266357  |  1   |\n",
      "|   19750    |     79    | 0.08830071489016215  |  2   |\n",
      "|   19750    |     36    |  0.0851184328397115  |  3   |\n",
      "|   19750    |     48    | 0.08332078655560811  |  4   |\n",
      "|   19750    |     2     | 0.07795339822769165  |  5   |\n",
      "|   19750    |     1     | 0.07755593458811443  |  6   |\n",
      "|   19750    |     5     | 0.06208712855974833  |  7   |\n",
      "|   19750    |    194    | 0.05267951885859171  |  8   |\n",
      "|   19750    |     13    | 0.04787000020345052  |  9   |\n",
      "|   19750    |     21    | 0.04699036478996277  |  10  |\n",
      "+------------+-----------+----------------------+------+\n",
      "[10000 rows x 4 columns]\n",
      "\n"
     ]
    }
   ],
   "source": [
    "cos.recommend(users_to_recommend, k = n_rec).print_rows(n_display)"
   ]
  },
  {
   "cell_type": "code",
   "execution_count": 61,
   "metadata": {},
   "outputs": [
    {
     "data": {
      "text/html": [
       "<pre>Preparing data set.</pre>"
      ],
      "text/plain": [
       "Preparing data set."
      ]
     },
     "metadata": {},
     "output_type": "display_data"
    },
    {
     "data": {
      "text/html": [
       "<pre>    Data has 106868 observations with 23326 users and 300 items.</pre>"
      ],
      "text/plain": [
       "    Data has 106868 observations with 23326 users and 300 items."
      ]
     },
     "metadata": {},
     "output_type": "display_data"
    },
    {
     "data": {
      "text/html": [
       "<pre>    Data prepared in: 0.126125s</pre>"
      ],
      "text/plain": [
       "    Data prepared in: 0.126125s"
      ]
     },
     "metadata": {},
     "output_type": "display_data"
    },
    {
     "data": {
      "text/html": [
       "<pre>Training model from provided data.</pre>"
      ],
      "text/plain": [
       "Training model from provided data."
      ]
     },
     "metadata": {},
     "output_type": "display_data"
    },
    {
     "data": {
      "text/html": [
       "<pre>Gathering per-item and per-user statistics.</pre>"
      ],
      "text/plain": [
       "Gathering per-item and per-user statistics."
      ]
     },
     "metadata": {},
     "output_type": "display_data"
    },
    {
     "data": {
      "text/html": [
       "<pre>+--------------------------------+------------+</pre>"
      ],
      "text/plain": [
       "+--------------------------------+------------+"
      ]
     },
     "metadata": {},
     "output_type": "display_data"
    },
    {
     "data": {
      "text/html": [
       "<pre>| Elapsed Time (Item Statistics) | % Complete |</pre>"
      ],
      "text/plain": [
       "| Elapsed Time (Item Statistics) | % Complete |"
      ]
     },
     "metadata": {},
     "output_type": "display_data"
    },
    {
     "data": {
      "text/html": [
       "<pre>+--------------------------------+------------+</pre>"
      ],
      "text/plain": [
       "+--------------------------------+------------+"
      ]
     },
     "metadata": {},
     "output_type": "display_data"
    },
    {
     "data": {
      "text/html": [
       "<pre>| 11.738ms                       | 4.25       |</pre>"
      ],
      "text/plain": [
       "| 11.738ms                       | 4.25       |"
      ]
     },
     "metadata": {},
     "output_type": "display_data"
    },
    {
     "data": {
      "text/html": [
       "<pre>| 27.958ms                       | 100        |</pre>"
      ],
      "text/plain": [
       "| 27.958ms                       | 100        |"
      ]
     },
     "metadata": {},
     "output_type": "display_data"
    },
    {
     "data": {
      "text/html": [
       "<pre>+--------------------------------+------------+</pre>"
      ],
      "text/plain": [
       "+--------------------------------+------------+"
      ]
     },
     "metadata": {},
     "output_type": "display_data"
    },
    {
     "data": {
      "text/html": [
       "<pre>Setting up lookup tables.</pre>"
      ],
      "text/plain": [
       "Setting up lookup tables."
      ]
     },
     "metadata": {},
     "output_type": "display_data"
    },
    {
     "data": {
      "text/html": [
       "<pre>Processing data in one pass using dense lookup tables.</pre>"
      ],
      "text/plain": [
       "Processing data in one pass using dense lookup tables."
      ]
     },
     "metadata": {},
     "output_type": "display_data"
    },
    {
     "data": {
      "text/html": [
       "<pre>+-------------------------------------+------------------+-----------------+</pre>"
      ],
      "text/plain": [
       "+-------------------------------------+------------------+-----------------+"
      ]
     },
     "metadata": {},
     "output_type": "display_data"
    },
    {
     "data": {
      "text/html": [
       "<pre>| Elapsed Time (Constructing Lookups) | Total % Complete | Items Processed |</pre>"
      ],
      "text/plain": [
       "| Elapsed Time (Constructing Lookups) | Total % Complete | Items Processed |"
      ]
     },
     "metadata": {},
     "output_type": "display_data"
    },
    {
     "data": {
      "text/html": [
       "<pre>+-------------------------------------+------------------+-----------------+</pre>"
      ],
      "text/plain": [
       "+-------------------------------------+------------------+-----------------+"
      ]
     },
     "metadata": {},
     "output_type": "display_data"
    },
    {
     "data": {
      "text/html": [
       "<pre>| 29.495ms                            | 0                | 0               |</pre>"
      ],
      "text/plain": [
       "| 29.495ms                            | 0                | 0               |"
      ]
     },
     "metadata": {},
     "output_type": "display_data"
    },
    {
     "data": {
      "text/html": [
       "<pre>| 62.666ms                            | 100              | 300             |</pre>"
      ],
      "text/plain": [
       "| 62.666ms                            | 100              | 300             |"
      ]
     },
     "metadata": {},
     "output_type": "display_data"
    },
    {
     "data": {
      "text/html": [
       "<pre>+-------------------------------------+------------------+-----------------+</pre>"
      ],
      "text/plain": [
       "+-------------------------------------+------------------+-----------------+"
      ]
     },
     "metadata": {},
     "output_type": "display_data"
    },
    {
     "data": {
      "text/html": [
       "<pre>Finalizing lookup tables.</pre>"
      ],
      "text/plain": [
       "Finalizing lookup tables."
      ]
     },
     "metadata": {},
     "output_type": "display_data"
    },
    {
     "data": {
      "text/html": [
       "<pre>Generating candidate set for working with new users.</pre>"
      ],
      "text/plain": [
       "Generating candidate set for working with new users."
      ]
     },
     "metadata": {},
     "output_type": "display_data"
    },
    {
     "data": {
      "text/html": [
       "<pre>Finished training in 0.087669s</pre>"
      ],
      "text/plain": [
       "Finished training in 0.087669s"
      ]
     },
     "metadata": {},
     "output_type": "display_data"
    },
    {
     "data": {
      "text/html": [
       "<pre>recommendations finished on 1000/1000 queries. users per second: 85440.9</pre>"
      ],
      "text/plain": [
       "recommendations finished on 1000/1000 queries. users per second: 85440.9"
      ]
     },
     "metadata": {},
     "output_type": "display_data"
    },
    {
     "name": "stdout",
     "output_type": "stream",
     "text": [
      "+------------+-----------+--------------------+------+\n",
      "| customerId | productId |       score        | rank |\n",
      "+------------+-----------+--------------------+------+\n",
      "|    1553    |    132    | 3.1403508771929824 |  1   |\n",
      "|    1553    |     37    |  3.02168523452499  |  2   |\n",
      "|    1553    |     0     | 2.9589822561099046 |  3   |\n",
      "|    1553    |    248    | 2.9080011871728026 |  4   |\n",
      "|    1553    |     34    | 2.9008225225119944 |  5   |\n",
      "|    1553    |     3     | 2.8410041841004188 |  6   |\n",
      "|    1553    |    230    | 2.740934192270472  |  7   |\n",
      "|    1553    |    110    | 2.6946107784431135 |  8   |\n",
      "|    1553    |     27    | 2.6716417910447756 |  9   |\n",
      "|    1553    |     32    | 2.635000000000001  |  10  |\n",
      "|   20400    |    132    | 3.1297424425158584 |  1   |\n",
      "|   20400    |     37    | 3.0227272727272756 |  2   |\n",
      "|   20400    |     0     | 2.9592742592646593 |  3   |\n",
      "|   20400    |     34    | 2.9243027888446207 |  4   |\n",
      "|   20400    |    248    | 2.9090909090909087 |  5   |\n",
      "|   20400    |     3     | 2.8410041841004188 |  6   |\n",
      "|   20400    |    230    | 2.7451235643331553 |  7   |\n",
      "|   20400    |    110    | 2.6946107784431135 |  8   |\n",
      "|   20400    |     27    | 2.6716417910447756 |  9   |\n",
      "|   20400    |     32    | 2.635000000000001  |  10  |\n",
      "|   19750    |    132    | 3.1403508771929824 |  1   |\n",
      "|   19750    |     37    | 3.0227272727272756 |  2   |\n",
      "|   19750    |     0     | 2.9602695972277635 |  3   |\n",
      "|   19750    |     34    | 2.9153395516384797 |  4   |\n",
      "|   19750    |    248    | 2.9068279889496886 |  5   |\n",
      "|   19750    |     3     | 2.837058763914694  |  6   |\n",
      "|   19750    |    230    | 2.7463768115942027 |  7   |\n",
      "|   19750    |    110    | 2.6945298552037236 |  8   |\n",
      "|   19750    |     27    | 2.6687774501036645 |  9   |\n",
      "|   19750    |     32    | 2.632706562280656  |  10  |\n",
      "+------------+-----------+--------------------+------+\n",
      "[10000 rows x 4 columns]\n",
      "\n"
     ]
    }
   ],
   "source": [
    "name = 'pearson'\n",
    "target = 'purchase_count'\n",
    "pear = model(train_data, name, user_id, item_id, target,\n",
    "           users_to_recommend, n_rec, n_display)\n",
    "pear.recommend(users_to_recommend, k = n_rec).print_rows(n_display)"
   ]
  },
  {
   "cell_type": "code",
   "execution_count": 62,
   "metadata": {},
   "outputs": [],
   "source": [
    "models_w_counts = [popularity_model, cos, pear]\n",
    "\n",
    "names_w_counts = ['Popularity Model on Purchase Counts', 'Cosine Similarity on Purchase Counts', 'Pearson Similarity on Purchase Counts']"
   ]
  },
  {
   "cell_type": "markdown",
   "metadata": {},
   "source": [
    "# Evaluate the models"
   ]
  },
  {
   "cell_type": "code",
   "execution_count": 63,
   "metadata": {},
   "outputs": [
    {
     "name": "stdout",
     "output_type": "stream",
     "text": [
      "PROGRESS: Evaluate model Popularity Model on Purchase Counts\n"
     ]
    },
    {
     "data": {
      "text/html": [
       "<pre>recommendations finished on 1000/13825 queries. users per second: 89637.9</pre>"
      ],
      "text/plain": [
       "recommendations finished on 1000/13825 queries. users per second: 89637.9"
      ]
     },
     "metadata": {},
     "output_type": "display_data"
    },
    {
     "data": {
      "text/html": [
       "<pre>recommendations finished on 2000/13825 queries. users per second: 114489</pre>"
      ],
      "text/plain": [
       "recommendations finished on 2000/13825 queries. users per second: 114489"
      ]
     },
     "metadata": {},
     "output_type": "display_data"
    },
    {
     "data": {
      "text/html": [
       "<pre>recommendations finished on 3000/13825 queries. users per second: 124787</pre>"
      ],
      "text/plain": [
       "recommendations finished on 3000/13825 queries. users per second: 124787"
      ]
     },
     "metadata": {},
     "output_type": "display_data"
    },
    {
     "data": {
      "text/html": [
       "<pre>recommendations finished on 4000/13825 queries. users per second: 127535</pre>"
      ],
      "text/plain": [
       "recommendations finished on 4000/13825 queries. users per second: 127535"
      ]
     },
     "metadata": {},
     "output_type": "display_data"
    },
    {
     "data": {
      "text/html": [
       "<pre>recommendations finished on 5000/13825 queries. users per second: 134629</pre>"
      ],
      "text/plain": [
       "recommendations finished on 5000/13825 queries. users per second: 134629"
      ]
     },
     "metadata": {},
     "output_type": "display_data"
    },
    {
     "data": {
      "text/html": [
       "<pre>recommendations finished on 6000/13825 queries. users per second: 131380</pre>"
      ],
      "text/plain": [
       "recommendations finished on 6000/13825 queries. users per second: 131380"
      ]
     },
     "metadata": {},
     "output_type": "display_data"
    },
    {
     "data": {
      "text/html": [
       "<pre>recommendations finished on 7000/13825 queries. users per second: 125646</pre>"
      ],
      "text/plain": [
       "recommendations finished on 7000/13825 queries. users per second: 125646"
      ]
     },
     "metadata": {},
     "output_type": "display_data"
    },
    {
     "data": {
      "text/html": [
       "<pre>recommendations finished on 8000/13825 queries. users per second: 129128</pre>"
      ],
      "text/plain": [
       "recommendations finished on 8000/13825 queries. users per second: 129128"
      ]
     },
     "metadata": {},
     "output_type": "display_data"
    },
    {
     "data": {
      "text/html": [
       "<pre>recommendations finished on 9000/13825 queries. users per second: 129921</pre>"
      ],
      "text/plain": [
       "recommendations finished on 9000/13825 queries. users per second: 129921"
      ]
     },
     "metadata": {},
     "output_type": "display_data"
    },
    {
     "data": {
      "text/html": [
       "<pre>recommendations finished on 10000/13825 queries. users per second: 128100</pre>"
      ],
      "text/plain": [
       "recommendations finished on 10000/13825 queries. users per second: 128100"
      ]
     },
     "metadata": {},
     "output_type": "display_data"
    },
    {
     "data": {
      "text/html": [
       "<pre>recommendations finished on 11000/13825 queries. users per second: 126747</pre>"
      ],
      "text/plain": [
       "recommendations finished on 11000/13825 queries. users per second: 126747"
      ]
     },
     "metadata": {},
     "output_type": "display_data"
    },
    {
     "data": {
      "text/html": [
       "<pre>recommendations finished on 12000/13825 queries. users per second: 121113</pre>"
      ],
      "text/plain": [
       "recommendations finished on 12000/13825 queries. users per second: 121113"
      ]
     },
     "metadata": {},
     "output_type": "display_data"
    },
    {
     "data": {
      "text/html": [
       "<pre>recommendations finished on 13000/13825 queries. users per second: 115434</pre>"
      ],
      "text/plain": [
       "recommendations finished on 13000/13825 queries. users per second: 115434"
      ]
     },
     "metadata": {},
     "output_type": "display_data"
    },
    {
     "name": "stdout",
     "output_type": "stream",
     "text": [
      "\n",
      "Precision and recall summary statistics by cutoff\n",
      "+--------+-----------------------+-----------------------+\n",
      "| cutoff |     mean_precision    |      mean_recall      |\n",
      "+--------+-----------------------+-----------------------+\n",
      "|   1    | 0.0010849909584086847 | 0.0005271104222279648 |\n",
      "|   2    |  0.002893309222423152 | 0.0028978256021655645 |\n",
      "|   3    |  0.008896925858951181 |  0.01452505579612273  |\n",
      "|   4    |  0.007703435804701618 |  0.01641552024427251  |\n",
      "|   5    |  0.006336347197106737 |  0.016723537121909566 |\n",
      "|   6    |  0.006690777576853542 |  0.021060228760590438 |\n",
      "|   7    | 0.0060449496254197975 |   0.0223231237920208  |\n",
      "|   8    |  0.005687160940325492 |  0.02392843867526623  |\n",
      "|   9    |  0.005368696001607366 |  0.025243803639817493 |\n",
      "|   10   |  0.005236889692585906 |  0.02783968314708945  |\n",
      "+--------+-----------------------+-----------------------+\n",
      "[10 rows x 3 columns]\n",
      "\n",
      "\n",
      "Overall RMSE: 1.2190371185061946\n",
      "\n",
      "Per User RMSE (best)\n",
      "+------------+------+-------+\n",
      "| customerId | rmse | count |\n",
      "+------------+------+-------+\n",
      "|   18540    | 0.0  |   1   |\n",
      "+------------+------+-------+\n",
      "[1 rows x 3 columns]\n",
      "\n",
      "\n",
      "Per User RMSE (worst)\n",
      "+------------+-------------------+-------+\n",
      "| customerId |        rmse       | count |\n",
      "+------------+-------------------+-------+\n",
      "|    1453    | 39.04436012046734 |   6   |\n",
      "+------------+-------------------+-------+\n",
      "[1 rows x 3 columns]\n",
      "\n",
      "\n",
      "Per Item RMSE (best)\n",
      "+-----------+--------------------+-------+\n",
      "| productId |        rmse        | count |\n",
      "+-----------+--------------------+-------+\n",
      "|    157    | 0.2519097447548934 |   96  |\n",
      "+-----------+--------------------+-------+\n",
      "[1 rows x 3 columns]\n",
      "\n",
      "\n",
      "Per Item RMSE (worst)\n",
      "+-----------+--------------------+-------+\n",
      "| productId |        rmse        | count |\n",
      "+-----------+--------------------+-------+\n",
      "|    173    | 12.822513862495473 |   33  |\n",
      "+-----------+--------------------+-------+\n",
      "[1 rows x 3 columns]\n",
      "\n",
      "PROGRESS: Evaluate model Cosine Similarity on Purchase Counts\n"
     ]
    },
    {
     "data": {
      "text/html": [
       "<pre>recommendations finished on 1000/13825 queries. users per second: 99750.6</pre>"
      ],
      "text/plain": [
       "recommendations finished on 1000/13825 queries. users per second: 99750.6"
      ]
     },
     "metadata": {},
     "output_type": "display_data"
    },
    {
     "data": {
      "text/html": [
       "<pre>recommendations finished on 2000/13825 queries. users per second: 113199</pre>"
      ],
      "text/plain": [
       "recommendations finished on 2000/13825 queries. users per second: 113199"
      ]
     },
     "metadata": {},
     "output_type": "display_data"
    },
    {
     "data": {
      "text/html": [
       "<pre>recommendations finished on 3000/13825 queries. users per second: 114793</pre>"
      ],
      "text/plain": [
       "recommendations finished on 3000/13825 queries. users per second: 114793"
      ]
     },
     "metadata": {},
     "output_type": "display_data"
    },
    {
     "data": {
      "text/html": [
       "<pre>recommendations finished on 4000/13825 queries. users per second: 124016</pre>"
      ],
      "text/plain": [
       "recommendations finished on 4000/13825 queries. users per second: 124016"
      ]
     },
     "metadata": {},
     "output_type": "display_data"
    },
    {
     "data": {
      "text/html": [
       "<pre>recommendations finished on 5000/13825 queries. users per second: 124406</pre>"
      ],
      "text/plain": [
       "recommendations finished on 5000/13825 queries. users per second: 124406"
      ]
     },
     "metadata": {},
     "output_type": "display_data"
    },
    {
     "data": {
      "text/html": [
       "<pre>recommendations finished on 6000/13825 queries. users per second: 122224</pre>"
      ],
      "text/plain": [
       "recommendations finished on 6000/13825 queries. users per second: 122224"
      ]
     },
     "metadata": {},
     "output_type": "display_data"
    },
    {
     "data": {
      "text/html": [
       "<pre>recommendations finished on 7000/13825 queries. users per second: 120161</pre>"
      ],
      "text/plain": [
       "recommendations finished on 7000/13825 queries. users per second: 120161"
      ]
     },
     "metadata": {},
     "output_type": "display_data"
    },
    {
     "data": {
      "text/html": [
       "<pre>recommendations finished on 8000/13825 queries. users per second: 116862</pre>"
      ],
      "text/plain": [
       "recommendations finished on 8000/13825 queries. users per second: 116862"
      ]
     },
     "metadata": {},
     "output_type": "display_data"
    },
    {
     "data": {
      "text/html": [
       "<pre>recommendations finished on 9000/13825 queries. users per second: 114846</pre>"
      ],
      "text/plain": [
       "recommendations finished on 9000/13825 queries. users per second: 114846"
      ]
     },
     "metadata": {},
     "output_type": "display_data"
    },
    {
     "data": {
      "text/html": [
       "<pre>recommendations finished on 10000/13825 queries. users per second: 112666</pre>"
      ],
      "text/plain": [
       "recommendations finished on 10000/13825 queries. users per second: 112666"
      ]
     },
     "metadata": {},
     "output_type": "display_data"
    },
    {
     "data": {
      "text/html": [
       "<pre>recommendations finished on 11000/13825 queries. users per second: 109774</pre>"
      ],
      "text/plain": [
       "recommendations finished on 11000/13825 queries. users per second: 109774"
      ]
     },
     "metadata": {},
     "output_type": "display_data"
    },
    {
     "data": {
      "text/html": [
       "<pre>recommendations finished on 12000/13825 queries. users per second: 106685</pre>"
      ],
      "text/plain": [
       "recommendations finished on 12000/13825 queries. users per second: 106685"
      ]
     },
     "metadata": {},
     "output_type": "display_data"
    },
    {
     "data": {
      "text/html": [
       "<pre>recommendations finished on 13000/13825 queries. users per second: 106323</pre>"
      ],
      "text/plain": [
       "recommendations finished on 13000/13825 queries. users per second: 106323"
      ]
     },
     "metadata": {},
     "output_type": "display_data"
    },
    {
     "name": "stdout",
     "output_type": "stream",
     "text": [
      "\n",
      "Precision and recall summary statistics by cutoff\n",
      "+--------+----------------------+---------------------+\n",
      "| cutoff |    mean_precision    |     mean_recall     |\n",
      "+--------+----------------------+---------------------+\n",
      "|   1    | 0.11522603978300278  | 0.06793969262440941 |\n",
      "|   2    | 0.09634719710669101  | 0.11183088106542127 |\n",
      "|   3    | 0.08081977094635319  | 0.13715332404338088 |\n",
      "|   4    | 0.07052441229656382  | 0.15819889717946523 |\n",
      "|   5    | 0.06343580470162737  | 0.17632855072864723 |\n",
      "|   6    |  0.0573960216998189  | 0.19022280142470693 |\n",
      "|   7    |  0.0526065616119867  | 0.20256732858731685 |\n",
      "|   8    | 0.04868896925858949  | 0.21415273000526858 |\n",
      "|   9    | 0.045473176612417135 | 0.22366008257355333 |\n",
      "|   10   | 0.04302350813743229  | 0.23481439761756073 |\n",
      "+--------+----------------------+---------------------+\n",
      "[10 rows x 3 columns]\n",
      "\n",
      "\n",
      "Overall RMSE: 1.9980972390960676\n",
      "\n",
      "Per User RMSE (best)\n",
      "+------------+---------------------+-------+\n",
      "| customerId |         rmse        | count |\n",
      "+------------+---------------------+-------+\n",
      "|   24454    | 0.09348917007446289 |   1   |\n",
      "+------------+---------------------+-------+\n",
      "[1 rows x 3 columns]\n",
      "\n",
      "\n",
      "Per User RMSE (worst)\n",
      "+------------+--------------------+-------+\n",
      "| customerId |        rmse        | count |\n",
      "+------------+--------------------+-------+\n",
      "|    1453    | 40.236520087032964 |   6   |\n",
      "+------------+--------------------+-------+\n",
      "[1 rows x 3 columns]\n",
      "\n",
      "\n",
      "Per Item RMSE (best)\n",
      "+-----------+--------------------+-------+\n",
      "| productId |        rmse        | count |\n",
      "+-----------+--------------------+-------+\n",
      "|    157    | 1.0333375356323702 |   96  |\n",
      "+-----------+--------------------+-------+\n",
      "[1 rows x 3 columns]\n",
      "\n",
      "\n",
      "Per Item RMSE (worst)\n",
      "+-----------+--------------------+-------+\n",
      "| productId |        rmse        | count |\n",
      "+-----------+--------------------+-------+\n",
      "|    173    | 13.269190111113895 |   33  |\n",
      "+-----------+--------------------+-------+\n",
      "[1 rows x 3 columns]\n",
      "\n",
      "PROGRESS: Evaluate model Pearson Similarity on Purchase Counts\n"
     ]
    },
    {
     "data": {
      "text/html": [
       "<pre>recommendations finished on 1000/13825 queries. users per second: 104635</pre>"
      ],
      "text/plain": [
       "recommendations finished on 1000/13825 queries. users per second: 104635"
      ]
     },
     "metadata": {},
     "output_type": "display_data"
    },
    {
     "data": {
      "text/html": [
       "<pre>recommendations finished on 2000/13825 queries. users per second: 117654</pre>"
      ],
      "text/plain": [
       "recommendations finished on 2000/13825 queries. users per second: 117654"
      ]
     },
     "metadata": {},
     "output_type": "display_data"
    },
    {
     "data": {
      "text/html": [
       "<pre>recommendations finished on 3000/13825 queries. users per second: 123426</pre>"
      ],
      "text/plain": [
       "recommendations finished on 3000/13825 queries. users per second: 123426"
      ]
     },
     "metadata": {},
     "output_type": "display_data"
    },
    {
     "data": {
      "text/html": [
       "<pre>recommendations finished on 4000/13825 queries. users per second: 129811</pre>"
      ],
      "text/plain": [
       "recommendations finished on 4000/13825 queries. users per second: 129811"
      ]
     },
     "metadata": {},
     "output_type": "display_data"
    },
    {
     "data": {
      "text/html": [
       "<pre>recommendations finished on 5000/13825 queries. users per second: 134131</pre>"
      ],
      "text/plain": [
       "recommendations finished on 5000/13825 queries. users per second: 134131"
      ]
     },
     "metadata": {},
     "output_type": "display_data"
    },
    {
     "data": {
      "text/html": [
       "<pre>recommendations finished on 6000/13825 queries. users per second: 123049</pre>"
      ],
      "text/plain": [
       "recommendations finished on 6000/13825 queries. users per second: 123049"
      ]
     },
     "metadata": {},
     "output_type": "display_data"
    },
    {
     "data": {
      "text/html": [
       "<pre>recommendations finished on 7000/13825 queries. users per second: 125069</pre>"
      ],
      "text/plain": [
       "recommendations finished on 7000/13825 queries. users per second: 125069"
      ]
     },
     "metadata": {},
     "output_type": "display_data"
    },
    {
     "data": {
      "text/html": [
       "<pre>recommendations finished on 8000/13825 queries. users per second: 126219</pre>"
      ],
      "text/plain": [
       "recommendations finished on 8000/13825 queries. users per second: 126219"
      ]
     },
     "metadata": {},
     "output_type": "display_data"
    },
    {
     "data": {
      "text/html": [
       "<pre>recommendations finished on 9000/13825 queries. users per second: 124813</pre>"
      ],
      "text/plain": [
       "recommendations finished on 9000/13825 queries. users per second: 124813"
      ]
     },
     "metadata": {},
     "output_type": "display_data"
    },
    {
     "data": {
      "text/html": [
       "<pre>recommendations finished on 10000/13825 queries. users per second: 118566</pre>"
      ],
      "text/plain": [
       "recommendations finished on 10000/13825 queries. users per second: 118566"
      ]
     },
     "metadata": {},
     "output_type": "display_data"
    },
    {
     "data": {
      "text/html": [
       "<pre>recommendations finished on 11000/13825 queries. users per second: 117921</pre>"
      ],
      "text/plain": [
       "recommendations finished on 11000/13825 queries. users per second: 117921"
      ]
     },
     "metadata": {},
     "output_type": "display_data"
    },
    {
     "data": {
      "text/html": [
       "<pre>recommendations finished on 12000/13825 queries. users per second: 110802</pre>"
      ],
      "text/plain": [
       "recommendations finished on 12000/13825 queries. users per second: 110802"
      ]
     },
     "metadata": {},
     "output_type": "display_data"
    },
    {
     "data": {
      "text/html": [
       "<pre>recommendations finished on 13000/13825 queries. users per second: 111290</pre>"
      ],
      "text/plain": [
       "recommendations finished on 13000/13825 queries. users per second: 111290"
      ]
     },
     "metadata": {},
     "output_type": "display_data"
    },
    {
     "name": "stdout",
     "output_type": "stream",
     "text": [
      "\n",
      "Precision and recall summary statistics by cutoff\n",
      "+--------+-----------------------+-----------------------+\n",
      "| cutoff |     mean_precision    |      mean_recall      |\n",
      "+--------+-----------------------+-----------------------+\n",
      "|   1    | 0.0011573236889692578 | 0.0005632767875082575 |\n",
      "|   2    | 0.0029656419529837086 |  0.002952075150086007 |\n",
      "|   3    |  0.00877637130801691  |  0.014211613963693534 |\n",
      "|   4    |  0.007703435804701583 |  0.016427575699365884 |\n",
      "|   5    |  0.006350813743218766 |  0.016759703487190004 |\n",
      "|   6    | 0.0067028330319469755 |   0.0210963951258708  |\n",
      "|   7    |  0.006055282872642705 |  0.022359290157301027 |\n",
      "|   8    |  0.005714285714285736 |  0.02407310413638747  |\n",
      "|   9    |  0.005400843881856538 |  0.025412580011125365 |\n",
      "|   10   |  0.005273056057866194 |  0.02805668133877112  |\n",
      "+--------+-----------------------+-----------------------+\n",
      "[10 rows x 3 columns]\n",
      "\n",
      "\n",
      "Overall RMSE: 1.216139435011238\n",
      "\n",
      "Per User RMSE (best)\n",
      "+------------+-----------------------+-------+\n",
      "| customerId |          rmse         | count |\n",
      "+------------+-----------------------+-------+\n",
      "|    7459    | 7.369393203848773e-05 |   1   |\n",
      "+------------+-----------------------+-------+\n",
      "[1 rows x 3 columns]\n",
      "\n",
      "\n",
      "Per User RMSE (worst)\n",
      "+------------+-------------------+-------+\n",
      "| customerId |        rmse       | count |\n",
      "+------------+-------------------+-------+\n",
      "|    1453    | 39.04145616510876 |   6   |\n",
      "+------------+-------------------+-------+\n",
      "[1 rows x 3 columns]\n",
      "\n",
      "\n",
      "Per Item RMSE (best)\n",
      "+-----------+---------------------+-------+\n",
      "| productId |         rmse        | count |\n",
      "+-----------+---------------------+-------+\n",
      "|    157    | 0.25109370523080854 |   96  |\n",
      "+-----------+---------------------+-------+\n",
      "[1 rows x 3 columns]\n",
      "\n",
      "\n",
      "Per Item RMSE (worst)\n",
      "+-----------+--------------------+-------+\n",
      "| productId |        rmse        | count |\n",
      "+-----------+--------------------+-------+\n",
      "|    173    | 12.822271108270263 |   33  |\n",
      "+-----------+--------------------+-------+\n",
      "[1 rows x 3 columns]\n",
      "\n"
     ]
    }
   ],
   "source": [
    "eval_counts = tc.recommender.util.compare_models(test_data,\n",
    "                                                models_w_counts, model_names=names_w_counts)"
   ]
  },
  {
   "cell_type": "markdown",
   "metadata": {},
   "source": [
    "# final model"
   ]
  },
  {
   "cell_type": "code",
   "execution_count": 67,
   "metadata": {},
   "outputs": [
    {
     "data": {
      "text/html": [
       "<pre>Warning: Ignoring columns purchase_count;</pre>"
      ],
      "text/plain": [
       "Warning: Ignoring columns purchase_count;"
      ]
     },
     "metadata": {},
     "output_type": "display_data"
    },
    {
     "data": {
      "text/html": [
       "<pre>    To use these columns in scoring predictions, use a model that allows the use of additional features.</pre>"
      ],
      "text/plain": [
       "    To use these columns in scoring predictions, use a model that allows the use of additional features."
      ]
     },
     "metadata": {},
     "output_type": "display_data"
    },
    {
     "data": {
      "text/html": [
       "<pre>Preparing data set.</pre>"
      ],
      "text/plain": [
       "Preparing data set."
      ]
     },
     "metadata": {},
     "output_type": "display_data"
    },
    {
     "data": {
      "text/html": [
       "<pre>    Data has 133585 observations with 24429 users and 300 items.</pre>"
      ],
      "text/plain": [
       "    Data has 133585 observations with 24429 users and 300 items."
      ]
     },
     "metadata": {},
     "output_type": "display_data"
    },
    {
     "data": {
      "text/html": [
       "<pre>    Data prepared in: 0.141312s</pre>"
      ],
      "text/plain": [
       "    Data prepared in: 0.141312s"
      ]
     },
     "metadata": {},
     "output_type": "display_data"
    },
    {
     "data": {
      "text/html": [
       "<pre>Training model from provided data.</pre>"
      ],
      "text/plain": [
       "Training model from provided data."
      ]
     },
     "metadata": {},
     "output_type": "display_data"
    },
    {
     "data": {
      "text/html": [
       "<pre>Gathering per-item and per-user statistics.</pre>"
      ],
      "text/plain": [
       "Gathering per-item and per-user statistics."
      ]
     },
     "metadata": {},
     "output_type": "display_data"
    },
    {
     "data": {
      "text/html": [
       "<pre>+--------------------------------+------------+</pre>"
      ],
      "text/plain": [
       "+--------------------------------+------------+"
      ]
     },
     "metadata": {},
     "output_type": "display_data"
    },
    {
     "data": {
      "text/html": [
       "<pre>| Elapsed Time (Item Statistics) | % Complete |</pre>"
      ],
      "text/plain": [
       "| Elapsed Time (Item Statistics) | % Complete |"
      ]
     },
     "metadata": {},
     "output_type": "display_data"
    },
    {
     "data": {
      "text/html": [
       "<pre>+--------------------------------+------------+</pre>"
      ],
      "text/plain": [
       "+--------------------------------+------------+"
      ]
     },
     "metadata": {},
     "output_type": "display_data"
    },
    {
     "data": {
      "text/html": [
       "<pre>| 709us                          | 4          |</pre>"
      ],
      "text/plain": [
       "| 709us                          | 4          |"
      ]
     },
     "metadata": {},
     "output_type": "display_data"
    },
    {
     "data": {
      "text/html": [
       "<pre>| 5.868ms                        | 100        |</pre>"
      ],
      "text/plain": [
       "| 5.868ms                        | 100        |"
      ]
     },
     "metadata": {},
     "output_type": "display_data"
    },
    {
     "data": {
      "text/html": [
       "<pre>+--------------------------------+------------+</pre>"
      ],
      "text/plain": [
       "+--------------------------------+------------+"
      ]
     },
     "metadata": {},
     "output_type": "display_data"
    },
    {
     "data": {
      "text/html": [
       "<pre>Setting up lookup tables.</pre>"
      ],
      "text/plain": [
       "Setting up lookup tables."
      ]
     },
     "metadata": {},
     "output_type": "display_data"
    },
    {
     "data": {
      "text/html": [
       "<pre>Processing data in one pass using dense lookup tables.</pre>"
      ],
      "text/plain": [
       "Processing data in one pass using dense lookup tables."
      ]
     },
     "metadata": {},
     "output_type": "display_data"
    },
    {
     "data": {
      "text/html": [
       "<pre>+-------------------------------------+------------------+-----------------+</pre>"
      ],
      "text/plain": [
       "+-------------------------------------+------------------+-----------------+"
      ]
     },
     "metadata": {},
     "output_type": "display_data"
    },
    {
     "data": {
      "text/html": [
       "<pre>| Elapsed Time (Constructing Lookups) | Total % Complete | Items Processed |</pre>"
      ],
      "text/plain": [
       "| Elapsed Time (Constructing Lookups) | Total % Complete | Items Processed |"
      ]
     },
     "metadata": {},
     "output_type": "display_data"
    },
    {
     "data": {
      "text/html": [
       "<pre>+-------------------------------------+------------------+-----------------+</pre>"
      ],
      "text/plain": [
       "+-------------------------------------+------------------+-----------------+"
      ]
     },
     "metadata": {},
     "output_type": "display_data"
    },
    {
     "data": {
      "text/html": [
       "<pre>| 6.776ms                             | 0                | 0               |</pre>"
      ],
      "text/plain": [
       "| 6.776ms                             | 0                | 0               |"
      ]
     },
     "metadata": {},
     "output_type": "display_data"
    },
    {
     "data": {
      "text/html": [
       "<pre>| 17.692ms                            | 100              | 300             |</pre>"
      ],
      "text/plain": [
       "| 17.692ms                            | 100              | 300             |"
      ]
     },
     "metadata": {},
     "output_type": "display_data"
    },
    {
     "data": {
      "text/html": [
       "<pre>+-------------------------------------+------------------+-----------------+</pre>"
      ],
      "text/plain": [
       "+-------------------------------------+------------------+-----------------+"
      ]
     },
     "metadata": {},
     "output_type": "display_data"
    },
    {
     "name": "stdout",
     "output_type": "stream",
     "text": [
      "+------------+-----------+----------------------+------+\n",
      "| customerId | productId |        score         | rank |\n",
      "+------------+-----------+----------------------+------+\n",
      "|    1553    |     2     | 0.12324784994125366  |  1   |\n",
      "|    1553    |     35    | 0.10447167158126831  |  2   |\n",
      "|    1553    |     1     | 0.10348175764083863  |  3   |\n",
      "|    1553    |     5     |  0.0906752586364746  |  4   |\n",
      "|    1553    |     17    | 0.07659814357757569  |  5   |\n",
      "|    1553    |     21    | 0.07491707801818848  |  6   |\n",
      "|    1553    |     8     | 0.06811234951019288  |  7   |\n",
      "|    1553    |     33    |  0.0668614387512207  |  8   |\n",
      "|    1553    |     47    | 0.06058878898620605  |  9   |\n",
      "|    1553    |     61    | 0.060317397117614746 |  10  |\n",
      "|   20400    |     26    | 0.05812269449234009  |  1   |\n",
      "|   20400    |     6     | 0.05361741781234741  |  2   |\n",
      "|   20400    |    113    | 0.05312788486480713  |  3   |\n",
      "|   20400    |     1     | 0.05210459232330322  |  4   |\n",
      "|   20400    |     15    | 0.047683894634246826 |  5   |\n",
      "|   20400    |     27    | 0.044673383235931396 |  6   |\n",
      "|   20400    |     13    | 0.04383981227874756  |  7   |\n",
      "|   20400    |    246    | 0.04373115301132202  |  8   |\n",
      "|   20400    |     4     | 0.04242873191833496  |  9   |\n",
      "|   20400    |     9     | 0.04190206527709961  |  10  |\n",
      "|   19750    |     48    |  0.132284144560496   |  1   |\n",
      "|   19750    |     36    | 0.12405195832252502  |  2   |\n",
      "|   19750    |     38    | 0.12345944841702779  |  3   |\n",
      "|   19750    |     79    | 0.10431413849194844  |  4   |\n",
      "|   19750    |     1     |  0.1038620372613271  |  5   |\n",
      "|   19750    |     2     | 0.09022133549054463  |  6   |\n",
      "|   19750    |     21    | 0.07398815949757893  |  7   |\n",
      "|   19750    |     14    | 0.07129199306170146  |  8   |\n",
      "|   19750    |     5     | 0.07093353072802226  |  9   |\n",
      "|   19750    |     17    | 0.06506650646527608  |  10  |\n",
      "+------------+-----------+----------------------+------+\n",
      "[10000 rows x 4 columns]\n",
      "\n"
     ]
    },
    {
     "data": {
      "text/html": [
       "<pre>Finalizing lookup tables.</pre>"
      ],
      "text/plain": [
       "Finalizing lookup tables."
      ]
     },
     "metadata": {},
     "output_type": "display_data"
    },
    {
     "data": {
      "text/html": [
       "<pre>Generating candidate set for working with new users.</pre>"
      ],
      "text/plain": [
       "Generating candidate set for working with new users."
      ]
     },
     "metadata": {},
     "output_type": "display_data"
    },
    {
     "data": {
      "text/html": [
       "<pre>Finished training in 0.02372s</pre>"
      ],
      "text/plain": [
       "Finished training in 0.02372s"
      ]
     },
     "metadata": {},
     "output_type": "display_data"
    },
    {
     "data": {
      "text/html": [
       "<pre>recommendations finished on 1000/1000 queries. users per second: 64028.7</pre>"
      ],
      "text/plain": [
       "recommendations finished on 1000/1000 queries. users per second: 64028.7"
      ]
     },
     "metadata": {},
     "output_type": "display_data"
    }
   ],
   "source": [
    "final_model = tc.item_similarity_recommender.create(tc.SFrame(data_dummy), \n",
    "                                            user_id=user_id, \n",
    "                                            item_id=item_id, \n",
    "                                            target='purchase_dummy', similarity_type='cosine')\n",
    "recom = final_model.recommend(users=users_to_recommend, k=n_rec)\n",
    "recom.print_rows(n_display)\n"
   ]
  },
  {
   "cell_type": "code",
   "execution_count": 69,
   "metadata": {},
   "outputs": [
    {
     "data": {
      "text/html": [
       "<div>\n",
       "<style scoped>\n",
       "    .dataframe tbody tr th:only-of-type {\n",
       "        vertical-align: middle;\n",
       "    }\n",
       "\n",
       "    .dataframe tbody tr th {\n",
       "        vertical-align: top;\n",
       "    }\n",
       "\n",
       "    .dataframe thead th {\n",
       "        text-align: right;\n",
       "    }\n",
       "</style>\n",
       "<table border=\"1\" class=\"dataframe\">\n",
       "  <thead>\n",
       "    <tr style=\"text-align: right;\">\n",
       "      <th></th>\n",
       "      <th>customerId</th>\n",
       "      <th>productId</th>\n",
       "      <th>score</th>\n",
       "      <th>rank</th>\n",
       "    </tr>\n",
       "  </thead>\n",
       "  <tbody>\n",
       "    <tr>\n",
       "      <th>0</th>\n",
       "      <td>1553</td>\n",
       "      <td>2</td>\n",
       "      <td>0.123248</td>\n",
       "      <td>1</td>\n",
       "    </tr>\n",
       "    <tr>\n",
       "      <th>1</th>\n",
       "      <td>1553</td>\n",
       "      <td>35</td>\n",
       "      <td>0.104472</td>\n",
       "      <td>2</td>\n",
       "    </tr>\n",
       "    <tr>\n",
       "      <th>2</th>\n",
       "      <td>1553</td>\n",
       "      <td>1</td>\n",
       "      <td>0.103482</td>\n",
       "      <td>3</td>\n",
       "    </tr>\n",
       "    <tr>\n",
       "      <th>3</th>\n",
       "      <td>1553</td>\n",
       "      <td>5</td>\n",
       "      <td>0.090675</td>\n",
       "      <td>4</td>\n",
       "    </tr>\n",
       "    <tr>\n",
       "      <th>4</th>\n",
       "      <td>1553</td>\n",
       "      <td>17</td>\n",
       "      <td>0.076598</td>\n",
       "      <td>5</td>\n",
       "    </tr>\n",
       "  </tbody>\n",
       "</table>\n",
       "</div>"
      ],
      "text/plain": [
       "   customerId  productId     score  rank\n",
       "0        1553          2  0.123248     1\n",
       "1        1553         35  0.104472     2\n",
       "2        1553          1  0.103482     3\n",
       "3        1553          5  0.090675     4\n",
       "4        1553         17  0.076598     5"
      ]
     },
     "execution_count": 69,
     "metadata": {},
     "output_type": "execute_result"
    }
   ],
   "source": [
    "recom.to_dataframe().head()"
   ]
  },
  {
   "cell_type": "markdown",
   "metadata": {},
   "source": [
    "# create a beautiful output"
   ]
  },
  {
   "cell_type": "code",
   "execution_count": 70,
   "metadata": {},
   "outputs": [],
   "source": [
    "def create_output(model, users_to_recommend, n_rec, print_csv=True):\n",
    "    recomendation = model.recommend(users=users_to_recommend, k=n_rec)\n",
    "    df_rec = recomendation.to_dataframe()\n",
    "    df_rec['recommendedProducts'] = df_rec.groupby([user_id])[item_id] \\\n",
    "        .transform(lambda x: '|'.join(x.astype(str)))\n",
    "    df_output = df_rec[['customerId', 'recommendedProducts']].drop_duplicates() \\\n",
    "        .sort_values('customerId').set_index('customerId')\n",
    "    if print_csv:\n",
    "        df_output.to_csv('../output/option1_recommendation.csv')\n",
    "        print(\"An output file can be found in 'output' folder with name 'option1_recommendation.csv'\")\n",
    "    return df_output"
   ]
  },
  {
   "cell_type": "code",
   "execution_count": 72,
   "metadata": {},
   "outputs": [
    {
     "data": {
      "text/html": [
       "<pre>recommendations finished on 1000/1000 queries. users per second: 122264</pre>"
      ],
      "text/plain": [
       "recommendations finished on 1000/1000 queries. users per second: 122264"
      ]
     },
     "metadata": {},
     "output_type": "display_data"
    },
    {
     "name": "stdout",
     "output_type": "stream",
     "text": [
      "An output file can be found in 'output' folder with name 'option1_recommendation.csv'\n",
      "(1000, 1)\n"
     ]
    },
    {
     "data": {
      "text/html": [
       "<div>\n",
       "<style scoped>\n",
       "    .dataframe tbody tr th:only-of-type {\n",
       "        vertical-align: middle;\n",
       "    }\n",
       "\n",
       "    .dataframe tbody tr th {\n",
       "        vertical-align: top;\n",
       "    }\n",
       "\n",
       "    .dataframe thead th {\n",
       "        text-align: right;\n",
       "    }\n",
       "</style>\n",
       "<table border=\"1\" class=\"dataframe\">\n",
       "  <thead>\n",
       "    <tr style=\"text-align: right;\">\n",
       "      <th></th>\n",
       "      <th>recommendedProducts</th>\n",
       "    </tr>\n",
       "    <tr>\n",
       "      <th>customerId</th>\n",
       "      <th></th>\n",
       "    </tr>\n",
       "  </thead>\n",
       "  <tbody>\n",
       "    <tr>\n",
       "      <th>4</th>\n",
       "      <td>132|37|0|34|248|3|230|110|27|32</td>\n",
       "    </tr>\n",
       "    <tr>\n",
       "      <th>11</th>\n",
       "      <td>132|37|0|34|248|3|230|110|27|32</td>\n",
       "    </tr>\n",
       "    <tr>\n",
       "      <th>12</th>\n",
       "      <td>132|37|0|34|248|3|230|110|27|32</td>\n",
       "    </tr>\n",
       "    <tr>\n",
       "      <th>16</th>\n",
       "      <td>132|37|0|34|248|3|230|110|27|32</td>\n",
       "    </tr>\n",
       "    <tr>\n",
       "      <th>21</th>\n",
       "      <td>132|37|0|34|248|3|230|110|27|32</td>\n",
       "    </tr>\n",
       "  </tbody>\n",
       "</table>\n",
       "</div>"
      ],
      "text/plain": [
       "                        recommendedProducts\n",
       "customerId                                 \n",
       "4           132|37|0|34|248|3|230|110|27|32\n",
       "11          132|37|0|34|248|3|230|110|27|32\n",
       "12          132|37|0|34|248|3|230|110|27|32\n",
       "16          132|37|0|34|248|3|230|110|27|32\n",
       "21          132|37|0|34|248|3|230|110|27|32"
      ]
     },
     "execution_count": 72,
     "metadata": {},
     "output_type": "execute_result"
    }
   ],
   "source": [
    "df_output = create_output(pear, users_to_recommend, n_rec, print_csv=True)\n",
    "print(df_output.shape)\n",
    "df_output.head()"
   ]
  }
 ],
 "metadata": {
  "kernelspec": {
   "display_name": "Python 3",
   "language": "python",
   "name": "python3"
  },
  "language_info": {
   "codemirror_mode": {
    "name": "ipython",
    "version": 3
   },
   "file_extension": ".py",
   "mimetype": "text/x-python",
   "name": "python",
   "nbconvert_exporter": "python",
   "pygments_lexer": "ipython3",
   "version": "3.7.3"
  }
 },
 "nbformat": 4,
 "nbformat_minor": 2
}
